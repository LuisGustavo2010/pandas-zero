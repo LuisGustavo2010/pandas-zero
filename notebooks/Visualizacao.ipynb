{
  "nbformat": 4,
  "nbformat_minor": 0,
  "metadata": {
    "colab": {
      "name": "Visualizacao.ipynb",
      "provenance": [],
      "collapsed_sections": []
    },
    "kernelspec": {
      "name": "python3",
      "display_name": "Python 3"
    }
  },
  "cells": [
    {
      "cell_type": "markdown",
      "metadata": {
        "id": "3ni0vgAIHiFI",
        "colab_type": "text"
      },
      "source": [
        "# Análise e apresentação de dados\n",
        "\n",
        "Para começar vamos carregar as bibliotecas necessárias.\n",
        "\n",
        "Além do Pandas, vamos precisar também da Matplotlib, uma biblioteca que serve exclusivamente para criar gráficos.\n",
        "\n",
        "Por convenção, carregamos apenas o módulo `pyplot` e o chamamos de `plt`.\n",
        "\n",
        "<!--\n",
        " - Pandas é uma biblioteca escrita para Python, que serve, principalmente, para manipulação e análise de dados;\n",
        " \n",
        " - Numpy é uma biblioteca também, que adiciona suporte para matrizes grandes e arrays multi-dimensionais. Além disso, também é composta por uma série de funções matemáticas que operam nesses conjuntos de dados;\n",
        " \n",
        " - Matplotlib é biblioteca que serve exclusivamente para criar gráficos;\n",
        " \n",
        " - Seaborn é uma biblioteca feita para criar gráficos estatísticos em Python, é construída em cima do Matplotlib e é integrada às estruturas de dados do Pandas.\n",
        " -->"
      ]
    },
    {
      "cell_type": "code",
      "metadata": {
        "id": "Y_PDGogQn3QS",
        "colab_type": "code",
        "colab": {}
      },
      "source": [
        "import pandas as pd\n",
        "import matplotlib.pyplot as plt"
      ],
      "execution_count": 0,
      "outputs": []
    },
    {
      "cell_type": "markdown",
      "metadata": {
        "id": "JLhsO2y1LEgK",
        "colab_type": "text"
      },
      "source": [
        "Os dados serão carregados a partir de uma URL. \n",
        "\n",
        "Neste tutorial, vamos deixar que o Pandas baixe diretamente o dataset, informando apenas a URL onde ele está localizado.\n",
        "\n",
        "É possível ver as primeiras observações da tabela usando o método `head()`:"
      ]
    },
    {
      "cell_type": "code",
      "metadata": {
        "id": "IvRWAQofrpLA",
        "colab_type": "code",
        "outputId": "b8b0c96d-0408-46a4-b57a-287c61f5d0c9",
        "colab": {
          "base_uri": "https://localhost:8080/",
          "height": 359
        }
      },
      "source": [
        "dados_url = 'http://bit.ly/2cLzoxH'\n",
        "dados = pd.read_csv(dados_url)\n",
        "dados.head(n=10)"
      ],
      "execution_count": 2,
      "outputs": [
        {
          "output_type": "execute_result",
          "data": {
            "text/html": [
              "<div>\n",
              "<style scoped>\n",
              "    .dataframe tbody tr th:only-of-type {\n",
              "        vertical-align: middle;\n",
              "    }\n",
              "\n",
              "    .dataframe tbody tr th {\n",
              "        vertical-align: top;\n",
              "    }\n",
              "\n",
              "    .dataframe thead th {\n",
              "        text-align: right;\n",
              "    }\n",
              "</style>\n",
              "<table border=\"1\" class=\"dataframe\">\n",
              "  <thead>\n",
              "    <tr style=\"text-align: right;\">\n",
              "      <th></th>\n",
              "      <th>country</th>\n",
              "      <th>year</th>\n",
              "      <th>pop</th>\n",
              "      <th>continent</th>\n",
              "      <th>lifeExp</th>\n",
              "      <th>gdpPercap</th>\n",
              "    </tr>\n",
              "  </thead>\n",
              "  <tbody>\n",
              "    <tr>\n",
              "      <th>0</th>\n",
              "      <td>Afghanistan</td>\n",
              "      <td>1952</td>\n",
              "      <td>8425333.0</td>\n",
              "      <td>Asia</td>\n",
              "      <td>28.801</td>\n",
              "      <td>779.445314</td>\n",
              "    </tr>\n",
              "    <tr>\n",
              "      <th>1</th>\n",
              "      <td>Afghanistan</td>\n",
              "      <td>1957</td>\n",
              "      <td>9240934.0</td>\n",
              "      <td>Asia</td>\n",
              "      <td>30.332</td>\n",
              "      <td>820.853030</td>\n",
              "    </tr>\n",
              "    <tr>\n",
              "      <th>2</th>\n",
              "      <td>Afghanistan</td>\n",
              "      <td>1962</td>\n",
              "      <td>10267083.0</td>\n",
              "      <td>Asia</td>\n",
              "      <td>31.997</td>\n",
              "      <td>853.100710</td>\n",
              "    </tr>\n",
              "    <tr>\n",
              "      <th>3</th>\n",
              "      <td>Afghanistan</td>\n",
              "      <td>1967</td>\n",
              "      <td>11537966.0</td>\n",
              "      <td>Asia</td>\n",
              "      <td>34.020</td>\n",
              "      <td>836.197138</td>\n",
              "    </tr>\n",
              "    <tr>\n",
              "      <th>4</th>\n",
              "      <td>Afghanistan</td>\n",
              "      <td>1972</td>\n",
              "      <td>13079460.0</td>\n",
              "      <td>Asia</td>\n",
              "      <td>36.088</td>\n",
              "      <td>739.981106</td>\n",
              "    </tr>\n",
              "    <tr>\n",
              "      <th>5</th>\n",
              "      <td>Afghanistan</td>\n",
              "      <td>1977</td>\n",
              "      <td>14880372.0</td>\n",
              "      <td>Asia</td>\n",
              "      <td>38.438</td>\n",
              "      <td>786.113360</td>\n",
              "    </tr>\n",
              "    <tr>\n",
              "      <th>6</th>\n",
              "      <td>Afghanistan</td>\n",
              "      <td>1982</td>\n",
              "      <td>12881816.0</td>\n",
              "      <td>Asia</td>\n",
              "      <td>39.854</td>\n",
              "      <td>978.011439</td>\n",
              "    </tr>\n",
              "    <tr>\n",
              "      <th>7</th>\n",
              "      <td>Afghanistan</td>\n",
              "      <td>1987</td>\n",
              "      <td>13867957.0</td>\n",
              "      <td>Asia</td>\n",
              "      <td>40.822</td>\n",
              "      <td>852.395945</td>\n",
              "    </tr>\n",
              "    <tr>\n",
              "      <th>8</th>\n",
              "      <td>Afghanistan</td>\n",
              "      <td>1992</td>\n",
              "      <td>16317921.0</td>\n",
              "      <td>Asia</td>\n",
              "      <td>41.674</td>\n",
              "      <td>649.341395</td>\n",
              "    </tr>\n",
              "    <tr>\n",
              "      <th>9</th>\n",
              "      <td>Afghanistan</td>\n",
              "      <td>1997</td>\n",
              "      <td>22227415.0</td>\n",
              "      <td>Asia</td>\n",
              "      <td>41.763</td>\n",
              "      <td>635.341351</td>\n",
              "    </tr>\n",
              "  </tbody>\n",
              "</table>\n",
              "</div>"
            ],
            "text/plain": [
              "       country  year         pop continent  lifeExp   gdpPercap\n",
              "0  Afghanistan  1952   8425333.0      Asia   28.801  779.445314\n",
              "1  Afghanistan  1957   9240934.0      Asia   30.332  820.853030\n",
              "2  Afghanistan  1962  10267083.0      Asia   31.997  853.100710\n",
              "3  Afghanistan  1967  11537966.0      Asia   34.020  836.197138\n",
              "4  Afghanistan  1972  13079460.0      Asia   36.088  739.981106\n",
              "5  Afghanistan  1977  14880372.0      Asia   38.438  786.113360\n",
              "6  Afghanistan  1982  12881816.0      Asia   39.854  978.011439\n",
              "7  Afghanistan  1987  13867957.0      Asia   40.822  852.395945\n",
              "8  Afghanistan  1992  16317921.0      Asia   41.674  649.341395\n",
              "9  Afghanistan  1997  22227415.0      Asia   41.763  635.341351"
            ]
          },
          "metadata": {
            "tags": []
          },
          "execution_count": 2
        }
      ]
    },
    {
      "cell_type": "markdown",
      "metadata": {
        "id": "lhiy-ck8zEx0",
        "colab_type": "text"
      },
      "source": [
        "No código abaixo, usando o comando `tail()`, também é possível ver as últimas observações do conjunto de dados. \n",
        "\n",
        "Tanto no método `head()` como no método `tail()`, podemos escolher quantas observações serão mostradas (`n = 10`).\n",
        "\n",
        "Isso pode ser alterado, mostrando 5, 20, 50 etc."
      ]
    },
    {
      "cell_type": "code",
      "metadata": {
        "id": "y6yD2Ctmx-x-",
        "colab_type": "code",
        "outputId": "3ed72259-7eb4-4c5c-ab88-9540a085883b",
        "colab": {
          "base_uri": "https://localhost:8080/",
          "height": 359
        }
      },
      "source": [
        "dados.tail(n=10)"
      ],
      "execution_count": 3,
      "outputs": [
        {
          "output_type": "execute_result",
          "data": {
            "text/html": [
              "<div>\n",
              "<style scoped>\n",
              "    .dataframe tbody tr th:only-of-type {\n",
              "        vertical-align: middle;\n",
              "    }\n",
              "\n",
              "    .dataframe tbody tr th {\n",
              "        vertical-align: top;\n",
              "    }\n",
              "\n",
              "    .dataframe thead th {\n",
              "        text-align: right;\n",
              "    }\n",
              "</style>\n",
              "<table border=\"1\" class=\"dataframe\">\n",
              "  <thead>\n",
              "    <tr style=\"text-align: right;\">\n",
              "      <th></th>\n",
              "      <th>country</th>\n",
              "      <th>year</th>\n",
              "      <th>pop</th>\n",
              "      <th>continent</th>\n",
              "      <th>lifeExp</th>\n",
              "      <th>gdpPercap</th>\n",
              "    </tr>\n",
              "  </thead>\n",
              "  <tbody>\n",
              "    <tr>\n",
              "      <th>1694</th>\n",
              "      <td>Zimbabwe</td>\n",
              "      <td>1962</td>\n",
              "      <td>4277736.0</td>\n",
              "      <td>Africa</td>\n",
              "      <td>52.358</td>\n",
              "      <td>527.272182</td>\n",
              "    </tr>\n",
              "    <tr>\n",
              "      <th>1695</th>\n",
              "      <td>Zimbabwe</td>\n",
              "      <td>1967</td>\n",
              "      <td>4995432.0</td>\n",
              "      <td>Africa</td>\n",
              "      <td>53.995</td>\n",
              "      <td>569.795071</td>\n",
              "    </tr>\n",
              "    <tr>\n",
              "      <th>1696</th>\n",
              "      <td>Zimbabwe</td>\n",
              "      <td>1972</td>\n",
              "      <td>5861135.0</td>\n",
              "      <td>Africa</td>\n",
              "      <td>55.635</td>\n",
              "      <td>799.362176</td>\n",
              "    </tr>\n",
              "    <tr>\n",
              "      <th>1697</th>\n",
              "      <td>Zimbabwe</td>\n",
              "      <td>1977</td>\n",
              "      <td>6642107.0</td>\n",
              "      <td>Africa</td>\n",
              "      <td>57.674</td>\n",
              "      <td>685.587682</td>\n",
              "    </tr>\n",
              "    <tr>\n",
              "      <th>1698</th>\n",
              "      <td>Zimbabwe</td>\n",
              "      <td>1982</td>\n",
              "      <td>7636524.0</td>\n",
              "      <td>Africa</td>\n",
              "      <td>60.363</td>\n",
              "      <td>788.855041</td>\n",
              "    </tr>\n",
              "    <tr>\n",
              "      <th>1699</th>\n",
              "      <td>Zimbabwe</td>\n",
              "      <td>1987</td>\n",
              "      <td>9216418.0</td>\n",
              "      <td>Africa</td>\n",
              "      <td>62.351</td>\n",
              "      <td>706.157306</td>\n",
              "    </tr>\n",
              "    <tr>\n",
              "      <th>1700</th>\n",
              "      <td>Zimbabwe</td>\n",
              "      <td>1992</td>\n",
              "      <td>10704340.0</td>\n",
              "      <td>Africa</td>\n",
              "      <td>60.377</td>\n",
              "      <td>693.420786</td>\n",
              "    </tr>\n",
              "    <tr>\n",
              "      <th>1701</th>\n",
              "      <td>Zimbabwe</td>\n",
              "      <td>1997</td>\n",
              "      <td>11404948.0</td>\n",
              "      <td>Africa</td>\n",
              "      <td>46.809</td>\n",
              "      <td>792.449960</td>\n",
              "    </tr>\n",
              "    <tr>\n",
              "      <th>1702</th>\n",
              "      <td>Zimbabwe</td>\n",
              "      <td>2002</td>\n",
              "      <td>11926563.0</td>\n",
              "      <td>Africa</td>\n",
              "      <td>39.989</td>\n",
              "      <td>672.038623</td>\n",
              "    </tr>\n",
              "    <tr>\n",
              "      <th>1703</th>\n",
              "      <td>Zimbabwe</td>\n",
              "      <td>2007</td>\n",
              "      <td>12311143.0</td>\n",
              "      <td>Africa</td>\n",
              "      <td>43.487</td>\n",
              "      <td>469.709298</td>\n",
              "    </tr>\n",
              "  </tbody>\n",
              "</table>\n",
              "</div>"
            ],
            "text/plain": [
              "       country  year         pop continent  lifeExp   gdpPercap\n",
              "1694  Zimbabwe  1962   4277736.0    Africa   52.358  527.272182\n",
              "1695  Zimbabwe  1967   4995432.0    Africa   53.995  569.795071\n",
              "1696  Zimbabwe  1972   5861135.0    Africa   55.635  799.362176\n",
              "1697  Zimbabwe  1977   6642107.0    Africa   57.674  685.587682\n",
              "1698  Zimbabwe  1982   7636524.0    Africa   60.363  788.855041\n",
              "1699  Zimbabwe  1987   9216418.0    Africa   62.351  706.157306\n",
              "1700  Zimbabwe  1992  10704340.0    Africa   60.377  693.420786\n",
              "1701  Zimbabwe  1997  11404948.0    Africa   46.809  792.449960\n",
              "1702  Zimbabwe  2002  11926563.0    Africa   39.989  672.038623\n",
              "1703  Zimbabwe  2007  12311143.0    Africa   43.487  469.709298"
            ]
          },
          "metadata": {
            "tags": []
          },
          "execution_count": 3
        }
      ]
    },
    {
      "cell_type": "markdown",
      "metadata": {
        "id": "kIbzhXQ000XQ",
        "colab_type": "text"
      },
      "source": [
        "### Histogramas\n",
        "\n",
        "Com os comandos oferecidos pelo Pandas é fácil construir um histograma, porém, é necessário entender exatamente o que se está construindo. \n",
        "\n",
        "No trecho abaixo dizemos que do conjunto `dados` vamos usar a coluna `lifeExp`, que mostra a expectativa de vida por ano.\n",
        "\n",
        "Com o método `hist(bins = 100)` teremos o histograma com 100 faixas diferentes de valores. "
      ]
    },
    {
      "cell_type": "code",
      "metadata": {
        "id": "NwLUT8xptz_9",
        "colab_type": "code",
        "outputId": "9f5c69ca-f3d6-4447-8e79-a7a0e1ae7925",
        "colab": {
          "base_uri": "https://localhost:8080/",
          "height": 282
        }
      },
      "source": [
        "dados['lifeExp'].hist(bins=100)"
      ],
      "execution_count": 4,
      "outputs": [
        {
          "output_type": "execute_result",
          "data": {
            "text/plain": [
              "<matplotlib.axes._subplots.AxesSubplot at 0x7f189fd78e80>"
            ]
          },
          "metadata": {
            "tags": []
          },
          "execution_count": 4
        },
        {
          "output_type": "display_data",
          "data": {
            "image/png": "[encoded data removed]",
            "text/plain": [
              "<Figure size 432x288 with 1 Axes>"
            ]
          },
          "metadata": {
            "tags": []
          }
        }
      ]
    },
    {
      "cell_type": "markdown",
      "metadata": {
        "id": "JKLxZZdx4sLT",
        "colab_type": "text"
      },
      "source": [
        "Abaixo podemos ver o efeito (extremo) de se construir um histograma com poucos intervalos de valores (apenas dois, neste caso)."
      ]
    },
    {
      "cell_type": "code",
      "metadata": {
        "id": "ooQ_pCJKuMX-",
        "colab_type": "code",
        "outputId": "5c762230-4ab5-401c-8030-a73936845e79",
        "colab": {
          "base_uri": "https://localhost:8080/",
          "height": 282
        }
      },
      "source": [
        "dados['lifeExp'].hist(bins=2)"
      ],
      "execution_count": 5,
      "outputs": [
        {
          "output_type": "execute_result",
          "data": {
            "text/plain": [
              "<matplotlib.axes._subplots.AxesSubplot at 0x7f189fb968d0>"
            ]
          },
          "metadata": {
            "tags": []
          },
          "execution_count": 5
        },
        {
          "output_type": "display_data",
          "data": {
            "image/png": "[encoded data removed]",
            "text/plain": [
              "<Figure size 432x288 with 1 Axes>"
            ]
          },
          "metadata": {
            "tags": []
          }
        }
      ]
    },
    {
      "cell_type": "markdown",
      "metadata": {
        "id": "lyarbic35AgQ",
        "colab_type": "text"
      },
      "source": [
        "O caso abaixo é exatamente o inverso do que foi mostrado acima: muitas faixas de valores (1000 no gráfico abaixo) torna a compreensão muito difícil."
      ]
    },
    {
      "cell_type": "code",
      "metadata": {
        "id": "Aj6a95vvu4Ie",
        "colab_type": "code",
        "outputId": "742b339d-b9c4-4050-9e8d-622fe5684177",
        "colab": {
          "base_uri": "https://localhost:8080/",
          "height": 282
        }
      },
      "source": [
        "dados['lifeExp'].hist(bins=1000)\n"
      ],
      "execution_count": 6,
      "outputs": [
        {
          "output_type": "execute_result",
          "data": {
            "text/plain": [
              "<matplotlib.axes._subplots.AxesSubplot at 0x7f189f6d2a58>"
            ]
          },
          "metadata": {
            "tags": []
          },
          "execution_count": 6
        },
        {
          "output_type": "display_data",
          "data": {
            "image/png": "[encoded data removed]",
            "text/plain": [
              "<Figure size 432x288 with 1 Axes>"
            ]
          },
          "metadata": {
            "tags": []
          }
        }
      ]
    },
    {
      "cell_type": "markdown",
      "metadata": {
        "id": "AqnPTNI0P7vL",
        "colab_type": "text"
      },
      "source": [
        "O histograma padrão do Pandas é básico e serve apenas para uma olhada rápida na distribuição dos dados, mas não conta a história toda. \n",
        "\n",
        "Além de não haver nomes nos eixos X e Y, há uma região do eixo X sendo apresentada mesmo que não haja dados nela.\n",
        "\n",
        "Podemos resolver isso configurando o histograma através dos seguintes parâmetros:\n",
        " - `xlabelsize` e `ylabelsize` ditam o tamanho da fonte nos eixos;\n",
        " - `xlabel `e `ylabel` são os métodos que alteram o título do eixo e o tamanho desse texto;\n",
        " - `xlim` também é um método e determina os limites inferior e superior do eixo horizontal.\n",
        "\n",
        "A seguir podemos ver como customizar as informações que aparecem no histograma."
      ]
    },
    {
      "cell_type": "code",
      "metadata": {
        "id": "7AsoMmeHP_kh",
        "colab_type": "code",
        "outputId": "1fc7bb5f-2004-4508-eb6e-609e1372b6ad",
        "colab": {
          "base_uri": "https://localhost:8080/",
          "height": 304
        }
      },
      "source": [
        "dados['lifeExp'].hist(bins=100, grid=False, xlabelsize=12, ylabelsize=12)\n",
        "plt.xlabel(\"Expectativa de vida\", fontsize=15)\n",
        "plt.ylabel(\"Frequência\",fontsize=15)\n",
        "plt.xlim([22.0,90.0])"
      ],
      "execution_count": 7,
      "outputs": [
        {
          "output_type": "execute_result",
          "data": {
            "text/plain": [
              "(22.0, 90.0)"
            ]
          },
          "metadata": {
            "tags": []
          },
          "execution_count": 7
        },
        {
          "output_type": "display_data",
          "data": {
            "image/png": "[encoded data removed]",
            "text/plain": [
              "<Figure size 432x288 with 1 Axes>"
            ]
          },
          "metadata": {
            "tags": []
          }
        }
      ]
    },
    {
      "cell_type": "markdown",
      "metadata": {
        "id": "D4fmMtbQRfY1",
        "colab_type": "text"
      },
      "source": [
        "Um bom gráfico deve ser fácil de se entender.\n",
        "\n",
        "Ele mostra os dados e nos ajuda a atirar conclusões de acordo com a distribuição desses dados, que valores ocorrem mais entre outros detalhes, que podem ser mais difíceis de se enxergar apenas olhando números. \n",
        "\n",
        "Então é importante customizar o histograma, mudando os `bins`, a cor, os valores limite etc.\n",
        "\n"
      ]
    },
    {
      "cell_type": "code",
      "metadata": {
        "id": "_aolhQc5Rngs",
        "colab_type": "code",
        "outputId": "913dafb0-11ac-4de5-b7ae-d4cb02b85dba",
        "colab": {
          "base_uri": "https://localhost:8080/",
          "height": 324
        }
      },
      "source": [
        "dados['lifeExp'].hist(bins=100, grid=False, xlabelsize=12, ylabelsize=12, \n",
        "                     color = 'darkgreen')\n",
        "plt.title(\"Distribuição da expectativa de vida\", fontsize = 17)\n",
        "plt.xlabel(\"Expectativa de vida\", fontsize=15)\n",
        "plt.ylabel(\"Frequência\",fontsize=15)\n",
        "plt.grid(axis = 'y', alpha = 0.8)\n",
        "plt.xlim([22.0,90.0])"
      ],
      "execution_count": 8,
      "outputs": [
        {
          "output_type": "execute_result",
          "data": {
            "text/plain": [
              "(22.0, 90.0)"
            ]
          },
          "metadata": {
            "tags": []
          },
          "execution_count": 8
        },
        {
          "output_type": "display_data",
          "data": {
            "image/png": "[encoded data removed]",
            "text/plain": [
              "<Figure size 432x288 with 1 Axes>"
            ]
          },
          "metadata": {
            "tags": []
          }
        }
      ]
    },
    {
      "cell_type": "markdown",
      "metadata": {
        "id": "WvlxccQA7P4D",
        "colab_type": "text"
      },
      "source": [
        "As duas células de código a seguir produzem gráficos usando a expectativa de vida no continente Africano e na Europa, respectivamente. \n",
        "\n",
        "Analise esses dados, tire suas conclusões e compare com outras regiões usando o que foi mostrado ao longo do tutorial."
      ]
    },
    {
      "cell_type": "code",
      "metadata": {
        "id": "_9zMPpq-WZvk",
        "colab_type": "code",
        "outputId": "a2e54060-420e-4391-c2fb-e219406efa17",
        "colab": {
          "base_uri": "https://localhost:8080/",
          "height": 324
        }
      },
      "source": [
        "dados_africa = dados[dados['continent'] == 'Africa']\n",
        "\n",
        "dados_africa['lifeExp'].hist(bins=50, grid=False, xlabelsize=12, ylabelsize=12, \n",
        "                     color = 'darkblue')\n",
        "plt.title(\"Distribuição da expectativa de vida no Continente Africano\", \n",
        "          fontsize = 17)\n",
        "plt.xlabel(\"Expectativa de vida\", fontsize=15)\n",
        "plt.ylabel(\"Frequência\",fontsize=15)\n",
        "plt.grid(axis = 'y', alpha = 0.8)\n",
        "plt.xlim([20.0,90.0])"
      ],
      "execution_count": 11,
      "outputs": [
        {
          "output_type": "execute_result",
          "data": {
            "text/plain": [
              "(20.0, 90.0)"
            ]
          },
          "metadata": {
            "tags": []
          },
          "execution_count": 11
        },
        {
          "output_type": "display_data",
          "data": {
            "image/png": "[encoded data removed]",
            "text/plain": [
              "<Figure size 432x288 with 1 Axes>"
            ]
          },
          "metadata": {
            "tags": []
          }
        }
      ]
    },
    {
      "cell_type": "code",
      "metadata": {
        "id": "XmXh1Mm6XALN",
        "colab_type": "code",
        "outputId": "0abde16b-7fa8-44cc-dbca-58c0143d2d80",
        "colab": {
          "base_uri": "https://localhost:8080/",
          "height": 324
        }
      },
      "source": [
        "dados_europa = dados[dados['continent'] == 'Europe']\n",
        "\n",
        "dados_europa['lifeExp'].hist(bins=50, grid=False, xlabelsize=12, ylabelsize=12, \n",
        "                     color = 'darkblue')\n",
        "plt.title(\"Distribuição da expectativa de vida na Europa\", \n",
        "          fontsize = 17)\n",
        "plt.xlabel(\"Expectativa de vida\", fontsize=15)\n",
        "plt.ylabel(\"Frequência\",fontsize=15)\n",
        "plt.grid(axis = 'y', alpha = 0.8)\n",
        "plt.xlim([20.0,90.0])"
      ],
      "execution_count": 12,
      "outputs": [
        {
          "output_type": "execute_result",
          "data": {
            "text/plain": [
              "(20.0, 90.0)"
            ]
          },
          "metadata": {
            "tags": []
          },
          "execution_count": 12
        },
        {
          "output_type": "display_data",
          "data": {
            "image/png": "[encoded data removed]",
            "text/plain": [
              "<Figure size 432x288 with 1 Axes>"
            ]
          },
          "metadata": {
            "tags": []
          }
        }
      ]
    },
    {
      "cell_type": "markdown",
      "metadata": {
        "id": "mJEBFTkHCsKS",
        "colab_type": "text"
      },
      "source": [
        "## Boxplots\n",
        "\n",
        "Abaixo serão feitos exemplos com o boxplot. \n",
        "\n",
        "Esse gráfico possui alguns detalhes e pode ser um pouco mais difícil de visualizar os dados que o histograma, porém, apresenta alguns pontos mais claros (como mediana, primeiro e terceiro quartil).\n",
        "\n",
        "Usando um comando semelhante ao do histograma, podemos construir um gráfico boxplot simples. \n",
        "\n",
        "O exemplo abaixo produz um boxplot que mostra a distribuição da expectativa de vida de acordo com os continentes."
      ]
    },
    {
      "cell_type": "code",
      "metadata": {
        "id": "poJYkdLgDTnJ",
        "colab_type": "code",
        "outputId": "d78ac711-6318-4ea0-daa6-c15b2e63d667",
        "colab": {
          "base_uri": "https://localhost:8080/",
          "height": 318
        }
      },
      "source": [
        "dados.boxplot(by='continent', \n",
        "                       column=['lifeExp'], \n",
        "                       grid=False)"
      ],
      "execution_count": 15,
      "outputs": [
        {
          "output_type": "execute_result",
          "data": {
            "text/plain": [
              "<matplotlib.axes._subplots.AxesSubplot at 0x7f189e646978>"
            ]
          },
          "metadata": {
            "tags": []
          },
          "execution_count": 15
        },
        {
          "output_type": "display_data",
          "data": {
            "image/png": "[encoded data removed]",
            "text/plain": [
              "<Figure size 432x288 with 1 Axes>"
            ]
          },
          "metadata": {
            "tags": []
          }
        }
      ]
    },
    {
      "cell_type": "markdown",
      "metadata": {
        "id": "UJP9E7SmDXCh",
        "colab_type": "text"
      },
      "source": [
        "O parâmetro `columns` aceita uma lista de características e produz um boxplot para cada uma. \n",
        "\n",
        "No entanto, se essas características apresentarem faixas de valores muito diferentes, a visualização de cada boxplot fica comprometida:"
      ]
    },
    {
      "cell_type": "code",
      "metadata": {
        "id": "3K_77nJ2n5B5",
        "colab_type": "code",
        "colab": {
          "base_uri": "https://localhost:8080/",
          "height": 352
        },
        "outputId": "5f962964-9ee7-4a59-b3f4-f8cb6a480f1b"
      },
      "source": [
        "dados.boxplot(by='continent', \n",
        "                       column=['lifeExp','pop'], \n",
        "                       grid=False)"
      ],
      "execution_count": 16,
      "outputs": [
        {
          "output_type": "execute_result",
          "data": {
            "text/plain": [
              "array([<matplotlib.axes._subplots.AxesSubplot object at 0x7f189e94d8d0>,\n",
              "       <matplotlib.axes._subplots.AxesSubplot object at 0x7f189e7ec7b8>],\n",
              "      dtype=object)"
            ]
          },
          "metadata": {
            "tags": []
          },
          "execution_count": 16
        },
        {
          "output_type": "display_data",
          "data": {
            "image/png": "[encoded data removed]",
            "text/plain": [
              "<Figure size 432x288 with 2 Axes>"
            ]
          },
          "metadata": {
            "tags": []
          }
        }
      ]
    },
    {
      "cell_type": "markdown",
      "metadata": {
        "id": "zS8Nu9Bjn4Zd",
        "colab_type": "text"
      },
      "source": [
        "Nos gráficos acima, é possível notar que existem muitos outliers.\n",
        "\n",
        "É interessante filtrar os dados e analisar a expectativa de vida por ano (por exemplo). \n",
        "\n",
        "O código abaixo produz um boxplot da expectativa de vida para o ano de 2007:"
      ]
    },
    {
      "cell_type": "code",
      "metadata": {
        "id": "wnaTcyOjDZpQ",
        "colab_type": "code",
        "outputId": "3394c723-80ed-410c-906c-ad7289dffaf3",
        "colab": {
          "base_uri": "https://localhost:8080/",
          "height": 323
        }
      },
      "source": [
        "dados_2007 = dados[dados['year']==2007]\n",
        "dados_2007.boxplot(by='continent', \n",
        "                       column=['lifeExp'], \n",
        "                       grid=False)\n",
        "plt.xlabel(\"Expectativa de vida (2007)\", fontsize=15)"
      ],
      "execution_count": 19,
      "outputs": [
        {
          "output_type": "execute_result",
          "data": {
            "text/plain": [
              "Text(0.5, 0, 'Expectativa de vida (2007)')"
            ]
          },
          "metadata": {
            "tags": []
          },
          "execution_count": 19
        },
        {
          "output_type": "display_data",
          "data": {
            "image/png": "[encoded data removed]",
            "text/plain": [
              "<Figure size 432x288 with 1 Axes>"
            ]
          },
          "metadata": {
            "tags": []
          }
        }
      ]
    },
    {
      "cell_type": "markdown",
      "metadata": {
        "id": "9dXYPSOKFofJ",
        "colab_type": "text"
      },
      "source": [
        "Também é interessante analisar anos diferentes, já que escolhemos essa variável para filtrar. \n",
        "\n",
        "No código a seguir os dados são filtrados pelo ano de 1982."
      ]
    },
    {
      "cell_type": "code",
      "metadata": {
        "id": "JYLr-CxMDcdJ",
        "colab_type": "code",
        "outputId": "60f846b6-3177-4696-a0fd-013ad8e92aff",
        "colab": {
          "base_uri": "https://localhost:8080/",
          "height": 323
        }
      },
      "source": [
        "dados_1982 = dados[dados['year']==1982]\n",
        "dados_1982.boxplot(by='continent', \n",
        "                       column=['lifeExp'], \n",
        "                       grid=False)\n",
        "plt.xlabel(\"Expectativa de vida (1982)\", fontsize=15)"
      ],
      "execution_count": 20,
      "outputs": [
        {
          "output_type": "execute_result",
          "data": {
            "text/plain": [
              "Text(0.5, 0, 'Expectativa de vida (1982)')"
            ]
          },
          "metadata": {
            "tags": []
          },
          "execution_count": 20
        },
        {
          "output_type": "display_data",
          "data": {
            "image/png": "[encoded data removed]",
            "text/plain": [
              "<Figure size 432x288 with 1 Axes>"
            ]
          },
          "metadata": {
            "tags": []
          }
        }
      ]
    },
    {
      "cell_type": "markdown",
      "metadata": {
        "id": "GrrPgeWSGCEw",
        "colab_type": "text"
      },
      "source": [
        "Por fim, o boxplot a seguir tem alguns incrementos:\n",
        "\n",
        "- a adição de linhas horizontais para melhor visualização das linhas das \"caixas\"\n",
        "- títulos nos eixos horizontal e vertical"
      ]
    },
    {
      "cell_type": "code",
      "metadata": {
        "id": "xCSKjHwDDfIZ",
        "colab_type": "code",
        "outputId": "187c270e-3466-432f-9d08-b85a656c7487",
        "colab": {
          "base_uri": "https://localhost:8080/",
          "height": 306
        }
      },
      "source": [
        "dados_1982 = dados[dados['year']==1982]\n",
        "dados_1982.boxplot(by='continent', \n",
        "                       column=['lifeExp'], \n",
        "                       grid=False)\n",
        "plt.xlabel(\"Continentes\", fontsize=15)\n",
        "plt.ylabel(\"Idades\",fontsize=15)\n",
        "plt.grid(axis = 'y', alpha = 0.8)"
      ],
      "execution_count": 21,
      "outputs": [
        {
          "output_type": "display_data",
          "data": {
            "image/png": "[encoded data removed]",
            "text/plain": [
              "<Figure size 432x288 with 1 Axes>"
            ]
          },
          "metadata": {
            "tags": []
          }
        }
      ]
    },
    {
      "cell_type": "code",
      "metadata": {
        "id": "TVE1lbC4omQX",
        "colab_type": "code",
        "colab": {}
      },
      "source": [
        ""
      ],
      "execution_count": 0,
      "outputs": []
    }
  ]
}