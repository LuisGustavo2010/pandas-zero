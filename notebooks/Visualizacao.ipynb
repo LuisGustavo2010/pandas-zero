{
  "nbformat": 4,
  "nbformat_minor": 0,
  "metadata": {
    "colab": {
      "name": "Visualizacao.ipynb",
      "provenance": [],
      "collapsed_sections": []
    },
    "kernelspec": {
      "name": "python3",
      "display_name": "Python 3"
    }
  },
  "cells": [
    {
      "cell_type": "markdown",
      "metadata": {
        "id": "3ni0vgAIHiFI",
        "colab_type": "text"
      },
      "source": [
        "# Análise e apresentação de dados\n",
        "\n",
        "Para começar vamos carregar as bibliotecas necessárias.\n",
        "\n",
        "Além do Pandas, vamos precisar também da Matplotlib, uma biblioteca que serve exclusivamente para criar gráficos.\n",
        "\n",
        "Por convenção, carregamos apenas o módulo `pyplot` e o chamamos de `plt`.\n",
        "\n",
        "<!--\n",
        " - Pandas é uma biblioteca escrita para Python, que serve, principalmente, para manipulação e análise de dados;\n",
        " \n",
        " - Numpy é uma biblioteca também, que adiciona suporte para matrizes grandes e arrays multi-dimensionais. Além disso, também é composta por uma série de funções matemáticas que operam nesses conjuntos de dados;\n",
        " \n",
        " - Matplotlib é biblioteca que serve exclusivamente para criar gráficos;\n",
        " \n",
        " - Seaborn é uma biblioteca feita para criar gráficos estatísticos em Python, é construída em cima do Matplotlib e é integrada às estruturas de dados do Pandas.\n",
        " -->"
      ]
    },
    {
      "cell_type": "code",
      "metadata": {
        "id": "Y_PDGogQn3QS",
        "colab_type": "code",
        "colab": {}
      },
      "source": [
        "import pandas as pd\n",
        "import matplotlib.pyplot as plt"
      ],
      "execution_count": 0,
      "outputs": []
    },
    {
      "cell_type": "markdown",
      "metadata": {
        "id": "JLhsO2y1LEgK",
        "colab_type": "text"
      },
      "source": [
        "Os dados serão carregados a partir de uma URL. \n",
        "\n",
        "Neste tutorial, vamos deixar que o Pandas baixe diretamente o dataset, informando apenas a URL onde ele está localizado.\n",
        "\n",
        "É possível ver as primeiras observações da tabela usando o método `head()`:"
      ]
    },
    {
      "cell_type": "code",
      "metadata": {
        "id": "IvRWAQofrpLA",
        "colab_type": "code",
        "colab": {}
      },
      "source": [
        "dados_url = 'http://bit.ly/2cLzoxH'\n",
        "dados = pd.read_csv(dados_url)\n",
        "dados.head(n=10)"
      ],
      "execution_count": 0,
      "outputs": []
    },
    {
      "cell_type": "markdown",
      "metadata": {
        "id": "lhiy-ck8zEx0",
        "colab_type": "text"
      },
      "source": [
        "No código abaixo, usando o comando `tail()`, também é possível ver as últimas observações do conjunto de dados. \n",
        "\n",
        "Tanto no método `head()` como no método `tail()`, podemos escolher quantas observações serão mostradas (`n = 10`).\n",
        "\n",
        "Isso pode ser alterado, mostrando 5, 20, 50 etc."
      ]
    },
    {
      "cell_type": "code",
      "metadata": {
        "id": "y6yD2Ctmx-x-",
        "colab_type": "code",
        "colab": {}
      },
      "source": [
        "dados.tail(n=10)"
      ],
      "execution_count": 0,
      "outputs": []
    },
    {
      "cell_type": "markdown",
      "metadata": {
        "id": "kIbzhXQ000XQ",
        "colab_type": "text"
      },
      "source": [
        "### Histogramas\n",
        "\n",
        "Com os comandos oferecidos pelo Pandas é fácil construir um histograma, porém, é necessário entender exatamente o que se está construindo. \n",
        "\n",
        "No trecho abaixo dizemos que do conjunto `dados` vamos usar a coluna `lifeExp`, que mostra a expectativa de vida por ano.\n",
        "\n",
        "Com o método `hist(bins = 100)` teremos o histograma com 100 faixas diferentes de valores. "
      ]
    },
    {
      "cell_type": "code",
      "metadata": {
        "id": "NwLUT8xptz_9",
        "colab_type": "code",
        "colab": {}
      },
      "source": [
        "dados['lifeExp'].hist(bins=100)"
      ],
      "execution_count": 0,
      "outputs": []
    },
    {
      "cell_type": "markdown",
      "metadata": {
        "id": "JKLxZZdx4sLT",
        "colab_type": "text"
      },
      "source": [
        "Abaixo podemos ver o efeito (extremo) de se construir um histograma com poucos intervalos de valores (apenas dois, neste caso)."
      ]
    },
    {
      "cell_type": "code",
      "metadata": {
        "id": "ooQ_pCJKuMX-",
        "colab_type": "code",
        "colab": {}
      },
      "source": [
        "dados['lifeExp'].hist(bins=2)"
      ],
      "execution_count": 0,
      "outputs": []
    },
    {
      "cell_type": "markdown",
      "metadata": {
        "id": "lyarbic35AgQ",
        "colab_type": "text"
      },
      "source": [
        "O caso abaixo é exatamente o inverso do que foi mostrado acima: muitas faixas de valores (1000 no gráfico abaixo) torna a compreensão muito difícil."
      ]
    },
    {
      "cell_type": "code",
      "metadata": {
        "id": "Aj6a95vvu4Ie",
        "colab_type": "code",
        "colab": {}
      },
      "source": [
        "dados['lifeExp'].hist(bins=1000)\n"
      ],
      "execution_count": 0,
      "outputs": []
    },
    {
      "cell_type": "markdown",
      "metadata": {
        "id": "AqnPTNI0P7vL",
        "colab_type": "text"
      },
      "source": [
        "O histograma padrão do Pandas é básico e serve apenas para uma olhada rápida na distribuição dos dados, mas não conta a história toda. \n",
        "\n",
        "Além de não haver nomes nos eixos X e Y, há uma região do eixo X sendo apresentada mesmo que não haja dados nela.\n",
        "\n",
        "Podemos resolver isso configurando o histograma através dos seguintes parâmetros:\n",
        " - `xlabelsize` e `ylabelsize` ditam o tamanho da fonte nos eixos;\n",
        " - `xlabel `e `ylabel` são os métodos que alteram o título do eixo e o tamanho desse texto;\n",
        " - `xlim` também é um método e determina os limites inferior e superior do eixo horizontal.\n",
        "\n",
        "A seguir podemos ver como customizar as informações que aparecem no histograma."
      ]
    },
    {
      "cell_type": "code",
      "metadata": {
        "id": "7AsoMmeHP_kh",
        "colab_type": "code",
        "colab": {}
      },
      "source": [
        "dados['lifeExp'].hist(bins=100, grid=False, xlabelsize=12, ylabelsize=12)\n",
        "plt.xlabel(\"Expectativa de vida\", fontsize=15)\n",
        "plt.ylabel(\"Frequência\",fontsize=15)\n",
        "plt.xlim([22.0,90.0])"
      ],
      "execution_count": 0,
      "outputs": []
    },
    {
      "cell_type": "markdown",
      "metadata": {
        "id": "D4fmMtbQRfY1",
        "colab_type": "text"
      },
      "source": [
        "Um bom gráfico deve ser fácil de se entender.\n",
        "\n",
        "Ele mostra os dados e nos ajuda a atirar conclusões de acordo com a distribuição desses dados, que valores ocorrem mais entre outros detalhes, que podem ser mais difíceis de se enxergar apenas olhando números. \n",
        "\n",
        "Então é importante customizar o histograma, mudando os `bins`, a cor, os valores limite etc.\n",
        "\n"
      ]
    },
    {
      "cell_type": "code",
      "metadata": {
        "id": "_aolhQc5Rngs",
        "colab_type": "code",
        "colab": {}
      },
      "source": [
        "dados['lifeExp'].hist(bins=100, grid=False, xlabelsize=12, ylabelsize=12, \n",
        "                     color = 'darkgreen')\n",
        "plt.title(\"Distribuição da expectativa de vida\", fontsize = 17)\n",
        "plt.xlabel(\"Expectativa de vida\", fontsize=15)\n",
        "plt.ylabel(\"Frequência\",fontsize=15)\n",
        "plt.grid(axis = 'y', alpha = 0.8)\n",
        "plt.xlim([22.0,90.0])"
      ],
      "execution_count": 0,
      "outputs": []
    },
    {
      "cell_type": "markdown",
      "metadata": {
        "id": "WvlxccQA7P4D",
        "colab_type": "text"
      },
      "source": [
        "As duas células de código a seguir produzem gráficos usando a expectativa de vida no continente Africano e na Europa, respectivamente. \n",
        "\n",
        "Analise esses dados, tire suas conclusões e compare com outras regiões usando o que foi mostrado ao longo do tutorial."
      ]
    },
    {
      "cell_type": "code",
      "metadata": {
        "id": "_9zMPpq-WZvk",
        "colab_type": "code",
        "colab": {}
      },
      "source": [
        "dados_africa = dados[dados['continent'] == 'Africa']\n",
        "\n",
        "dados_africa['lifeExp'].hist(bins=50, grid=False, xlabelsize=12, ylabelsize=12, \n",
        "                     color = 'darkblue')\n",
        "plt.title(\"Distribuição da expectativa de vida no Continente Africano\", \n",
        "          fontsize = 17)\n",
        "plt.xlabel(\"Expectativa de vida\", fontsize=15)\n",
        "plt.ylabel(\"Frequência\",fontsize=15)\n",
        "plt.grid(axis = 'y', alpha = 0.8)\n",
        "plt.xlim([20.0,90.0])"
      ],
      "execution_count": 0,
      "outputs": []
    },
    {
      "cell_type": "code",
      "metadata": {
        "id": "XmXh1Mm6XALN",
        "colab_type": "code",
        "colab": {}
      },
      "source": [
        "dados_europa = dados[dados['continent'] == 'Europe']\n",
        "\n",
        "dados_europa['lifeExp'].hist(bins=50, grid=False, xlabelsize=12, ylabelsize=12, \n",
        "                     color = 'darkblue')\n",
        "plt.title(\"Distribuição da expectativa de vida na Europa\", \n",
        "          fontsize = 17)\n",
        "plt.xlabel(\"Expectativa de vida\", fontsize=15)\n",
        "plt.ylabel(\"Frequência\",fontsize=15)\n",
        "plt.grid(axis = 'y', alpha = 0.8)\n",
        "plt.xlim([20.0,90.0])"
      ],
      "execution_count": 0,
      "outputs": []
    },
    {
      "cell_type": "markdown",
      "metadata": {
        "id": "mJEBFTkHCsKS",
        "colab_type": "text"
      },
      "source": [
        "## Boxplots\n",
        "\n",
        "Abaixo serão feitos exemplos com o boxplot. \n",
        "\n",
        "Esse gráfico possui alguns detalhes e pode ser um pouco mais difícil de visualizar os dados que o histograma, porém, apresenta alguns pontos mais claros (como mediana, primeiro e terceiro quartil).\n",
        "\n",
        "Usando um comando semelhante ao do histograma, podemos construir um gráfico boxplot simples. \n",
        "\n",
        "O exemplo abaixo produz um boxplot que mostra a distribuição da expectativa de vida de acordo com os continentes."
      ]
    },
    {
      "cell_type": "code",
      "metadata": {
        "id": "poJYkdLgDTnJ",
        "colab_type": "code",
        "colab": {}
      },
      "source": [
        "dados.boxplot(by='continent', \n",
        "                       column=['lifeExp'], \n",
        "                       grid=False)"
      ],
      "execution_count": 0,
      "outputs": []
    },
    {
      "cell_type": "markdown",
      "metadata": {
        "id": "UJP9E7SmDXCh",
        "colab_type": "text"
      },
      "source": [
        "O parâmetro `columns` aceita uma lista de características e produz um boxplot para cada uma. \n",
        "\n",
        "No entanto, se essas características apresentarem faixas de valores muito diferentes, a visualização de cada boxplot fica comprometida:"
      ]
    },
    {
      "cell_type": "code",
      "metadata": {
        "id": "3K_77nJ2n5B5",
        "colab_type": "code",
        "colab": {}
      },
      "source": [
        "dados.boxplot(by='continent', \n",
        "                       column=['lifeExp','pop'], \n",
        "                       grid=False)"
      ],
      "execution_count": 0,
      "outputs": []
    },
    {
      "cell_type": "markdown",
      "metadata": {
        "id": "zS8Nu9Bjn4Zd",
        "colab_type": "text"
      },
      "source": [
        "Nos gráficos acima, é possível notar que existem muitos outliers.\n",
        "\n",
        "É interessante filtrar os dados e analisar a expectativa de vida por ano (por exemplo). \n",
        "\n",
        "O código abaixo produz um boxplot da expectativa de vida para o ano de 2007:"
      ]
    },
    {
      "cell_type": "code",
      "metadata": {
        "id": "wnaTcyOjDZpQ",
        "colab_type": "code",
        "colab": {}
      },
      "source": [
        "dados_2007 = dados[dados['year']==2007]\n",
        "dados_2007.boxplot(by='continent', \n",
        "                       column=['lifeExp'], \n",
        "                       grid=False)\n",
        "plt.xlabel(\"Expectativa de vida (2007)\", fontsize=15)"
      ],
      "execution_count": 0,
      "outputs": []
    },
    {
      "cell_type": "markdown",
      "metadata": {
        "id": "9dXYPSOKFofJ",
        "colab_type": "text"
      },
      "source": [
        "Também é interessante analisar anos diferentes, já que escolhemos essa variável para filtrar. \n",
        "\n",
        "No código a seguir os dados são filtrados pelo ano de 1982."
      ]
    },
    {
      "cell_type": "code",
      "metadata": {
        "id": "JYLr-CxMDcdJ",
        "colab_type": "code",
        "colab": {}
      },
      "source": [
        "dados_1982 = dados[dados['year']==1982]\n",
        "dados_1982.boxplot(by='continent', \n",
        "                       column=['lifeExp'], \n",
        "                       grid=False)\n",
        "plt.xlabel(\"Expectativa de vida (1982)\", fontsize=15)"
      ],
      "execution_count": 0,
      "outputs": []
    },
    {
      "cell_type": "markdown",
      "metadata": {
        "id": "GrrPgeWSGCEw",
        "colab_type": "text"
      },
      "source": [
        "Por fim, o boxplot a seguir tem alguns incrementos:\n",
        "\n",
        "- a adição de linhas horizontais para melhor visualização das linhas das \"caixas\"\n",
        "- títulos nos eixos horizontal e vertical"
      ]
    },
    {
      "cell_type": "code",
      "metadata": {
        "id": "xCSKjHwDDfIZ",
        "colab_type": "code",
        "colab": {}
      },
      "source": [
        "dados_1982 = dados[dados['year']==1982]\n",
        "dados_1982.boxplot(by='continent', \n",
        "                       column=['lifeExp'], \n",
        "                       grid=False)\n",
        "plt.xlabel(\"Continentes\", fontsize=15)\n",
        "plt.ylabel(\"Idades\",fontsize=15)\n",
        "plt.grid(axis = 'y', alpha = 0.8)"
      ],
      "execution_count": 0,
      "outputs": []
    },
    {
      "cell_type": "code",
      "metadata": {
        "id": "TVE1lbC4omQX",
        "colab_type": "code",
        "colab": {}
      },
      "source": [
        ""
      ],
      "execution_count": 0,
      "outputs": []
    }
  ]
}